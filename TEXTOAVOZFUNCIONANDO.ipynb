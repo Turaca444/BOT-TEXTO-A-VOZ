{
 "cells": [
  {
   "cell_type": "code",
   "execution_count": 7,
   "id": "cd8af90a-6366-43c1-9512-0556fef3d275",
   "metadata": {},
   "outputs": [],
   "source": [
    "from gtts import gTTS\n",
    "import playsound\n",
    "import os\n",
    "\n",
    "\n",
    "\n",
    "\n",
    "x = ['Hola soy tu asistente virtual', 'Bienvenidos al Instituto Politécnico Córdoba', '¿Qué Necesitas?','Estamos para ayudarte','Te ofrecemos Nuestras propuestas Académicas - Tecnicatura en Ciencia de Datos e Inteligencia Artificial - Tecnicatura en Biotecnología','Tecnicatura en Telecomunicaciones',\n",
    "    'acercate a nuestras oficinas en Humberto Primo 680 Ciudad de Córdoba', 'Hola profe Narciso']\n",
    "tts = 'tts'\n",
    "for i in range(0,8):\n",
    "    tts = gTTS(text= x[i], lang = 'it')\n",
    "    voz = str(\"Hola\" +str(i) + \".mp3\")\n",
    "    tts.save(voz)\n",
    "    playsound.playsound(voz,True)\n",
    "    os.remove(voz)\n",
    "    \n"
   ]
  },
  {
   "cell_type": "code",
   "execution_count": null,
   "id": "12cd29cf-616b-42fd-8f37-fc69159a6fa6",
   "metadata": {},
   "outputs": [],
   "source": []
  },
  {
   "cell_type": "code",
   "execution_count": null,
   "id": "13572f1a-3d26-4164-bb39-2f0ec479840c",
   "metadata": {},
   "outputs": [],
   "source": []
  }
 ],
 "metadata": {
  "kernelspec": {
   "display_name": "Python 3 (ipykernel)",
   "language": "python",
   "name": "python3"
  },
  "language_info": {
   "codemirror_mode": {
    "name": "ipython",
    "version": 3
   },
   "file_extension": ".py",
   "mimetype": "text/x-python",
   "name": "python",
   "nbconvert_exporter": "python",
   "pygments_lexer": "ipython3",
   "version": "3.9.7"
  }
 },
 "nbformat": 4,
 "nbformat_minor": 5
}
